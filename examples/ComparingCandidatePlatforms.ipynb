{
 "cells": [
  {
   "cell_type": "markdown",
   "id": "1afb4980",
   "metadata": {},
   "source": [
    "# Using Inverse Optimal Tax Theory to Reveal Preferences of Political Candidates\n",
    "\n",
    "This notebook uses Inverse Optimal Tax Theory to determine the generalized social welfare weights associated with the tax policy proposals of candidates for President of the United States from 2012-2020.\n",
    "\n",
    "## Step 1: Import necessary Python modules"
   ]
  },
  {
   "cell_type": "code",
   "execution_count": null,
   "id": "16ed9b3c",
   "metadata": {},
   "outputs": [],
   "source": [
    "# imports\n",
    "from iot.iot_user import iot_comparison\n",
    "import taxcalc as tc\n",
    "import copy\n",
    "from IPython.core.display import display, HTML\n",
    "from plotly.offline import init_notebook_mode, plot\n",
    "import plotly.express as px\n",
    "init_notebook_mode(connected=True)"
   ]
  },
  {
   "cell_type": "markdown",
   "id": "19d2ed28",
   "metadata": {},
   "source": [
    "# Step 2: Give paths/urls to JSON files representing candidates' policy proposals\n",
    "\n",
    "We put these paths in a dictionary along with the year that is relevant for the policy proposals and what the current law baseline policy was at the time."
   ]
  },
  {
   "cell_type": "code",
   "execution_count": null,
   "id": "093d86ac",
   "metadata": {},
   "outputs": [],
   "source": [
    "obama2015_path = \"https://raw.githubusercontent.com/jdebacker/examples/pres_proposals/psl_examples/taxcalc/Obama2015.json\"\n",
    "romney2012_path = \"https://raw.githubusercontent.com/jdebacker/examples/pres_proposals/psl_examples/taxcalc/Romney2012.json\"\n",
    "clinton2016_path = \"https://raw.githubusercontent.com/jdebacker/examples/pres_proposals/psl_examples/taxcalc/Clinton2016.json\"\n",
    "trump2016_path = \"https://raw.githubusercontent.com/PSLmodels/examples/main/psl_examples/taxcalc/Trump2016.json\"\n",
    "biden2020_path = \"https://raw.githubusercontent.com/PSLmodels/examples/main/psl_examples/taxcalc/Biden2020.json\"\n",
    "trump2020_path = \"https://raw.githubusercontent.com/PSLmodels/examples/main/psl_examples/taxcalc/TCJA.json\"\n",
    "\n",
    "pre_2020_baseline = \"https://raw.githubusercontent.com/PSLmodels/examples/main/psl_examples/taxcalc/2017_law.json\"\n",
    "baseline_2020 = \"https://raw.githubusercontent.com/PSLmodels/examples/main/psl_examples/taxcalc/TCJA.json\"\n",
    "\n",
    "\n",
    "candidate_dict = {\n",
    "    \"Obama 2015\": {\"policy_path\": obama2015_path, \"baseline_path\": pre_2020_baseline, \"start_year\": 2016},\n",
    "    \"Romney 2012\": {\"policy_path\": romney2012_path, \"baseline_path\": pre_2020_baseline, \"start_year\": 2014}, # can't use year before 2014 with CPS file\n",
    "    \"Clinton 2016\": {\"policy_path\": clinton2016_path, \"baseline_path\": pre_2020_baseline, \"start_year\": 2017},\n",
    "    \"Trump 2016\": {\"policy_path\": trump2016_path, \"baseline_path\": pre_2020_baseline, \"start_year\": 2017},\n",
    "    \"Biden 2020\": {\"policy_path\": biden2020_path, \"baseline_path\": baseline_2020, \"start_year\": 2022},\n",
    "    \"Trump 2020\": {\"policy_path\": trump2020_path, \"baseline_path\": baseline_2020, \"start_year\": 2022}}\n",
    "\n",
    "# Add to the candidate dictionary the Policy objects representing the baseline for each candidate\n",
    "base_2017 = tc.Policy()\n",
    "base_2017_ref = tc.Policy.read_json_reform(pre_2020_baseline)\n",
    "base_2017.implement_reform(base_2017_ref, print_warnings=False, raise_errors=False)\n",
    "\n",
    "base_2020 = copy.deepcopy(base_2017)\n",
    "tcja = tc.Policy.read_json_reform(baseline_2020)\n",
    "base_2020.implement_reform(tcja, print_warnings=False, raise_errors=False)\n",
    "\n",
    "candidate_dict[\"Obama 2015\"][\"baseline\"] = base_2017\n",
    "candidate_dict[\"Romney 2012\"][\"baseline\"] = base_2017\n",
    "candidate_dict[\"Clinton 2016\"][\"baseline\"] = base_2017\n",
    "candidate_dict[\"Trump 2016\"][\"baseline\"] = base_2017\n",
    "candidate_dict[\"Biden 2020\"][\"baseline\"] = base_2020\n",
    "candidate_dict[\"Trump 2020\"][\"baseline\"] = base_2017"
   ]
  },
  {
   "cell_type": "markdown",
   "id": "e36798a9",
   "metadata": {},
   "source": [
    "## Step 3: Instantiate an `iot_comparison` class object\n",
    "\n",
    "Here, we create an `iot_comparison` class object with lists representing all the candidates included in the dictionary defined above."
   ]
  },
  {
   "cell_type": "code",
   "execution_count": null,
   "id": "45ea24da",
   "metadata": {},
   "outputs": [],
   "source": [
    "income_measure = \"expanded_income\"\n",
    "iot1 = iot_comparison(\n",
    "    years=[d['start_year'] for d in list(candidate_dict.values())],\n",
    "    baseline_policies=[[d['baseline_path']] for d in list(candidate_dict.values())],\n",
    "    policies=[d['policy_path'] for d in list(candidate_dict.values())],\n",
    "    labels=list(candidate_dict.keys()),\n",
    "    data=\"CPS\",\n",
    "    compare_default=False,\n",
    "    mtr_wrt=\"e00200p\",\n",
    "    income_measure=income_measure,\n",
    "    weight_var=\"s006\",\n",
    "    eti=0.25,\n",
    ")"
   ]
  },
  {
   "cell_type": "markdown",
   "id": "cd1022b9",
   "metadata": {},
   "source": [
    "## Step 4: Visualize the Results\n",
    "\n",
    "Plot the social welfare weights, marginal tax rates, and potentially other results from the inverse optimal tax model for each candidate."
   ]
  },
  {
   "cell_type": "code",
   "execution_count": null,
   "id": "9fc7a78f",
   "metadata": {},
   "outputs": [],
   "source": [
    "fig = iot1.plot()\n",
    "# plot(fig, filename = 'gz_figure.html')\n",
    "# display(HTML('gz_figure.html'))\n",
    "fig"
   ]
  },
  {
   "cell_type": "code",
   "execution_count": null,
   "id": "eabcb5a5",
   "metadata": {},
   "outputs": [],
   "source": [
    "fig2 = iot1.plot(var=\"mtr\")\n",
    "# plot(fig2, filename = 'mtr_figure.html')\n",
    "# display(HTML('mtr_figure.html'))\n",
    "fig2"
   ]
  },
  {
   "cell_type": "code",
   "execution_count": null,
   "id": "b2e3c222",
   "metadata": {},
   "outputs": [],
   "source": [
    "fig2 = iot1.plot(var=\"mtr_prime\")\n",
    "# plot(fig2, filename = 'mtr_figure.html')\n",
    "# display(HTML('mtr_figure.html'))\n",
    "fig2"
   ]
  },
  {
   "cell_type": "code",
   "execution_count": null,
   "id": "d761b926",
   "metadata": {},
   "outputs": [],
   "source": [
    "fig3 = iot1.plot(var=\"theta_z\")\n",
    "# plot(fig2, filename = 'mtr_figure.html')\n",
    "# display(HTML('mtr_figure.html'))\n",
    "fig3"
   ]
  },
  {
   "cell_type": "code",
   "execution_count": null,
   "id": "d2b56b7a",
   "metadata": {},
   "outputs": [],
   "source": [
    "iot1.SaezFig2()"
   ]
  },
  {
   "cell_type": "code",
   "execution_count": null,
   "id": "a703636c",
   "metadata": {},
   "outputs": [],
   "source": [
    "iot1.JJZFig4(policy='Biden 2020')"
   ]
  },
  {
   "cell_type": "code",
   "execution_count": null,
   "id": "5c0e7288",
   "metadata": {},
   "outputs": [],
   "source": [
    "iot1.JJZFig4(policy='Trump 2016')"
   ]
  },
  {
   "cell_type": "code",
   "execution_count": null,
   "id": "41575a1d",
   "metadata": {},
   "outputs": [],
   "source": []
  }
 ],
 "metadata": {
  "kernelspec": {
   "display_name": "Python 3 (ipykernel)",
   "language": "python",
   "name": "python3"
  },
  "language_info": {
   "codemirror_mode": {
    "name": "ipython",
    "version": 3
   },
   "file_extension": ".py",
   "mimetype": "text/x-python",
   "name": "python",
   "nbconvert_exporter": "python",
   "pygments_lexer": "ipython3",
   "version": "3.11.6"
  }
 },
 "nbformat": 4,
 "nbformat_minor": 5
}
