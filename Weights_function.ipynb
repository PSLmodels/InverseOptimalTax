{
 "cells": [
  {
   "cell_type": "code",
   "execution_count": 1,
   "metadata": {},
   "outputs": [],
   "source": [
    "import numpy as np\n",
    "import pandas as pd"
   ]
  },
  {
   "cell_type": "code",
   "execution_count": 31,
   "metadata": {},
   "outputs": [],
   "source": [
    "def Weights(z, f, mtr, dmtr=None, inc_elast=.25):\n",
    "    '''\n",
    "    Returns the social welfare weights for a given tax policy.\n",
    "    \n",
    "    Parameters:\n",
    "        z is an array which contains the levels of earnings in the distribution of earnings. \n",
    "        Should be equally spaced intervals\n",
    "        \n",
    "        f is an array of the distrubution of earnings evaluated at each level of income\n",
    "        \n",
    "        mtr is an array of the marginal tax rate for each level of income\n",
    "        \n",
    "        dmtr is an array of the derivative of the marginal tax rate\n",
    "        \n",
    "        inc_elast is a number or an array of the compensated elasticity of taxable income\n",
    "        wrt the marginal tax rates.\n",
    "    '''\n",
    "    # note: since the derivative of df calculated as following has length n-1 while f has \n",
    "    # length n, we temporarily add another bin to f for the calculation of df\n",
    "    \n",
    "    dz = z[1] - z[0]\n",
    "    f_extended = np.append(f, f[-1])\n",
    "    df = np.diff(f_extended) / dz\n",
    "    \n",
    "    if dmtr is None:\n",
    "        mtr_extended = np.append(mtr, mtr[-1])\n",
    "        dmtr = np.diff(mtr_extended)  / dz\n",
    "    \n",
    "    \n",
    "    theta_z = 1 + ((z * df) / f)\n",
    "    \n",
    "    g_z = 1 + ((theta_z * inc_elast * mtr) / (1-mtr)) + ((inc_elast * z * dmtr) / (1-mtr)**2)\n",
    "    return g_z"
   ]
  },
  {
   "cell_type": "code",
   "execution_count": 32,
   "metadata": {},
   "outputs": [
    {
     "data": {
      "text/plain": [
       "array([1.0625, 1.0625, 1.0625, 1.0625, 1.0625, 1.0625, 1.0625, 1.0625,\n",
       "       1.0625, 1.0625])"
      ]
     },
     "execution_count": 32,
     "metadata": {},
     "output_type": "execute_result"
    }
   ],
   "source": [
    "z = np.arange(0, 10)\n",
    "f = np.array([1/10]*10)\n",
    "mtr = np.array([.2]*10)\n",
    "\n",
    "Weights(z, f, mtr)"
   ]
  },
  {
   "cell_type": "code",
   "execution_count": null,
   "metadata": {},
   "outputs": [],
   "source": []
  }
 ],
 "metadata": {
  "kernelspec": {
   "display_name": "Python 3",
   "language": "python",
   "name": "python3"
  },
  "language_info": {
   "codemirror_mode": {
    "name": "ipython",
    "version": 3
   },
   "file_extension": ".py",
   "mimetype": "text/x-python",
   "name": "python",
   "nbconvert_exporter": "python",
   "pygments_lexer": "ipython3",
   "version": "3.8.5"
  }
 },
 "nbformat": 4,
 "nbformat_minor": 4
}
